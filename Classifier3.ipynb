{
 "cells": [
  {
   "attachments": {},
   "cell_type": "markdown",
   "metadata": {},
   "source": [
    "## Classifier/Recommender System\n",
    "\n",
    "This is the third rendition, building on the previous system. It builds on the previous classification system by continuing with the GPT functions."
   ]
  },
  {
   "cell_type": "code",
   "execution_count": 1,
   "metadata": {},
   "outputs": [],
   "source": [
    "import warnings\n",
    "warnings.filterwarnings('ignore')\n",
    "\n",
    "import ipywidgets as widgets\n",
    "from IPython.display import display, clear_output\n",
    "from ipywidgets import *\n",
    "\n",
    "#imports\n",
    "import pandas as pd"
   ]
  },
  {
   "cell_type": "code",
   "execution_count": 2,
   "metadata": {},
   "outputs": [],
   "source": [
    "# name\n",
    "\n",
    "input_text = widgets.Text(\n",
    "    placeholder='Your RFP here',\n",
    "    layout = widgets.Layout(width='300px', height='auto')\n",
    ")\n",
    "\n",
    "\n",
    "# button send\n",
    "\n",
    "button_send = widgets.Button(\n",
    "                description='Find Recommendations',\n",
    "                tooltip='Send',\n",
    "                disabled = False,\n",
    "                display='flex',\n",
    "                flex_flow='column',\n",
    "                align_items='stretch',\n",
    "                layout = widgets.Layout(width='auto', height='40px')\n",
    "    )\n",
    "\n",
    "output = widgets.Output()\n",
    "\n",
    "# stacked right hand side\n",
    "\n",
    "text_1 = widgets.HTML(value=\"<h2>Input in your RFP here:</h2>\")"
   ]
  },
  {
   "cell_type": "code",
   "execution_count": 3,
   "metadata": {},
   "outputs": [],
   "source": [
    "from sentence_transformers import SentenceTransformer\n",
    "\n",
    "def on_button_clicked(event):\n",
    "    with output:\n",
    "        clear_output()\n",
    "        # Load a pre-trained Sentence Transformer model\n",
    "        print(\"Downloading model data...\")\n",
    "        model = SentenceTransformer('bert-large-nli-mean-tokens')\n",
    "\n",
    "        clear_output()\n",
    "        print(\"Loading company data...\")\n",
    "        cbo_raw =  pd.read_csv(\"test1.csv\")\n",
    "        cbo_raw = cbo_raw.drop([\"First Name\", \"Title\", \"Unnamed: 6\", \"Prompts\"], axis = 1)\n",
    "        cbo = cbo_raw.rename(columns={\"Email\" : \"Desc\", \"Counties served\" : \"Counties\", \"Provider Names\": \"Names\"})\n",
    "        \n",
    "        total_companies = len(cbo)\n",
    "        rfp = input_text.value\n",
    "        scores = []\n",
    "        counter = 0\n",
    "\n",
    "        clear_output()\n",
    "        print(\"Calculating scores...\")\n",
    "        \n",
    "        for content in cbo[\"Desc\"]:\n",
    "            counter += 1\n",
    "            # Encode the bodies of text\n",
    "            embeddings1 = model.encode(rfp, convert_to_tensor=True)\n",
    "            embeddings2 = model.encode(content, convert_to_tensor=True)\n",
    "\n",
    "            from scipy.spatial.distance import cosine\n",
    "\n",
    "            # Calculate the cosine similarity\n",
    "            similarity = 1 - cosine(embeddings1, embeddings2)\n",
    "            \n",
    "            #calculate percentage done\n",
    "            percent = int(counter* 100/total_companies)\n",
    "            clear_output()\n",
    "            print(\"Calculating scores... (\" + str(percent) + \"%)\")\n",
    "\n",
    "            scores.append(similarity)\n",
    "\n",
    "        #Display visulizations\n",
    "        clear_output()\n",
    "        print(\"Visualizing data...\")\n",
    "        cbo[\"Scores\"] = scores\n",
    "        cbo = cbo.sort_values(\"Scores\", ascending=False)\n",
    "        cbo_final = cbo[[\"Names\", \"Scores\"]]\n",
    "        clear_output()\n",
    "        print(cbo_final)\n",
    "\n",
    "button_send.on_click(on_button_clicked)\n",
    "\n",
    "vbox_result = widgets.VBox([button_send, output])"
   ]
  },
  {
   "cell_type": "code",
   "execution_count": 4,
   "metadata": {},
   "outputs": [
    {
     "data": {
      "application/vnd.jupyter.widget-view+json": {
       "model_id": "ade3524580b143389b5761a3f413ddac",
       "version_major": 2,
       "version_minor": 0
      },
      "text/plain": [
       "HBox(children=(VBox(children=(HTML(value='<h2>Input in your RFP here:</h2>'), Text(value='', layout=Layout(hei…"
      ]
     },
     "metadata": {},
     "output_type": "display_data"
    }
   ],
   "source": [
    "vbox_text = widgets.VBox([text_1, input_text, vbox_result])\n",
    "\n",
    "page = widgets.HBox([vbox_text])\n",
    "display(page)"
   ]
  },
  {
   "cell_type": "code",
   "execution_count": null,
   "metadata": {},
   "outputs": [],
   "source": []
  }
 ],
 "metadata": {
  "kernelspec": {
   "display_name": "Python 3",
   "language": "python",
   "name": "python3"
  },
  "language_info": {
   "codemirror_mode": {
    "name": "ipython",
    "version": 3
   },
   "file_extension": ".py",
   "mimetype": "text/x-python",
   "name": "python",
   "nbconvert_exporter": "python",
   "pygments_lexer": "ipython3",
   "version": "3.10.1"
  },
  "orig_nbformat": 4
 },
 "nbformat": 4,
 "nbformat_minor": 2
}
